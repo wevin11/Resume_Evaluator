{
 "cells": [
  {
   "cell_type": "markdown",
   "id": "7317e3cb",
   "metadata": {},
   "source": [
    "# Lab: Gradio Apps\n",
    "* **Created by:** Eric Martinez\n",
    "* **For:** CSCI 3351\n",
    "* **At:** University of Texas Rio-Grande Valley"
   ]
  },
  {
   "cell_type": "markdown",
   "id": "e36163a8",
   "metadata": {},
   "source": [
    "#### Gradio\n",
    "\n",
    "Gradio is an open-source Python library that allows developers to create and prototype user interfaces (UIs) and APIs for machine learning applications and LLMs quickly and easily. Three reasons it is a great tool are:\n",
    "\n",
    "* Simple and intuitive: Gradio makes it easy to create UIs with minimal code, allowing developers to focus on their models.\n",
    "* Versatile: Gradio supports a wide range of input and output types, making it suitable for various machine learning tasks.\n",
    "* Shareable: Gradio interfaces can be shared with others, enabling collaboration and easy access to your models."
   ]
  },
  {
   "cell_type": "markdown",
   "id": "95741ba2",
   "metadata": {
    "slideshow": {
     "slide_type": "fragment"
    }
   },
   "source": [
    "## Get Setup:\n",
    "Create a `.env` file in this folder. Add secrets as key-value pairs in the `.env` file"
   ]
  },
  {
   "cell_type": "code",
   "execution_count": 1,
   "id": "9d57adbc",
   "metadata": {
    "slideshow": {
     "slide_type": "fragment"
    }
   },
   "outputs": [
    {
     "name": "stdout",
     "output_type": "stream",
     "text": [
      "Overwriting .env\n"
     ]
    }
   ],
   "source": [
    "%%writefile .env\n",
    "OPENAI_API_BASE=<my API base>\n",
    "OPENAI_API_KEY=<your API key to my service>"
   ]
  },
  {
   "cell_type": "markdown",
   "id": "0d1bcce2",
   "metadata": {},
   "source": [
    "Edit the resulting `.env` file with your `OPENAI_API_BASE` and `OPENAI_API_KEY`"
   ]
  },
  {
   "cell_type": "markdown",
   "id": "9db86925",
   "metadata": {
    "slideshow": {
     "slide_type": "slide"
    }
   },
   "source": [
    "#### Install Dependencies"
   ]
  },
  {
   "cell_type": "code",
   "execution_count": 1,
   "id": "7ea8f2d6",
   "metadata": {},
   "outputs": [
    {
     "name": "stdout",
     "output_type": "stream",
     "text": [
      "\r\n",
      "\u001b[1m[\u001b[0m\u001b[34;49mnotice\u001b[0m\u001b[1;39;49m]\u001b[0m\u001b[39;49m A new release of pip is available: \u001b[0m\u001b[31;49m23.2.1\u001b[0m\u001b[39;49m -> \u001b[0m\u001b[32;49m24.0\u001b[0m\r\n",
      "\u001b[1m[\u001b[0m\u001b[34;49mnotice\u001b[0m\u001b[1;39;49m]\u001b[0m\u001b[39;49m To update, run: \u001b[0m\u001b[32;49mpython3.11 -m pip install --upgrade pip\u001b[0m\r\n"
     ]
    }
   ],
   "source": [
    "!pip -q install --upgrade python-dotenv"
   ]
  },
  {
   "cell_type": "code",
   "execution_count": 2,
   "id": "2dc23272",
   "metadata": {
    "slideshow": {
     "slide_type": "fragment"
    }
   },
   "outputs": [
    {
     "name": "stdout",
     "output_type": "stream",
     "text": [
      "\r\n",
      "\u001b[1m[\u001b[0m\u001b[34;49mnotice\u001b[0m\u001b[1;39;49m]\u001b[0m\u001b[39;49m A new release of pip is available: \u001b[0m\u001b[31;49m23.2.1\u001b[0m\u001b[39;49m -> \u001b[0m\u001b[32;49m24.0\u001b[0m\r\n",
      "\u001b[1m[\u001b[0m\u001b[34;49mnotice\u001b[0m\u001b[1;39;49m]\u001b[0m\u001b[39;49m To update, run: \u001b[0m\u001b[32;49mpython3.11 -m pip install --upgrade pip\u001b[0m\r\n"
     ]
    }
   ],
   "source": [
    "!pip -q install --upgrade openai"
   ]
  },
  {
   "cell_type": "code",
   "execution_count": 3,
   "id": "f39302d3",
   "metadata": {
    "slideshow": {
     "slide_type": "fragment"
    }
   },
   "outputs": [
    {
     "name": "stdout",
     "output_type": "stream",
     "text": [
      "\r\n",
      "\u001b[1m[\u001b[0m\u001b[34;49mnotice\u001b[0m\u001b[1;39;49m]\u001b[0m\u001b[39;49m A new release of pip is available: \u001b[0m\u001b[31;49m23.2.1\u001b[0m\u001b[39;49m -> \u001b[0m\u001b[32;49m24.0\u001b[0m\r\n",
      "\u001b[1m[\u001b[0m\u001b[34;49mnotice\u001b[0m\u001b[1;39;49m]\u001b[0m\u001b[39;49m To update, run: \u001b[0m\u001b[32;49mpython3.11 -m pip install --upgrade pip\u001b[0m\r\n"
     ]
    }
   ],
   "source": [
    "!pip -q install --upgrade gradio"
   ]
  },
  {
   "cell_type": "markdown",
   "id": "98a26cc1",
   "metadata": {
    "slideshow": {
     "slide_type": "fragment"
    }
   },
   "source": [
    "#### Function for interacting with GPT"
   ]
  },
  {
   "cell_type": "code",
   "execution_count": 4,
   "id": "1b0c2af5",
   "metadata": {
    "slideshow": {
     "slide_type": "fragment"
    }
   },
   "outputs": [],
   "source": [
    "from openai import OpenAI\n",
    "import os\n",
    "from dotenv import load_dotenv\n",
    "\n",
    "load_dotenv(override=True)  # take environment variables from .env.\n",
    "\n",
    "client = OpenAI(\n",
    "    base_url=os.getenv(\"OPENAI_API_BASE\"),\n",
    "    api_key=os.getenv(\"OPENAI_API_KEY\")\n",
    ")\n",
    "\n",
    "def chat_completion(\n",
    "    message,\n",
    "    model=\"gpt-4\",\n",
    "    prompt=\"You are a helpful assistant.\",\n",
    "    temperature=0,\n",
    "    messages=[],\n",
    "):\n",
    "    # Add the prompt to the messages list\n",
    "    if prompt is not None:\n",
    "        messages = [{\"role\": \"system\", \"content\": prompt}] + messages\n",
    "\n",
    "    if message is not None:\n",
    "        # Add the user's message to the messages list\n",
    "        messages += [{\"role\": \"user\", \"content\": message}]\n",
    "\n",
    "    # Make an API call to the OpenAI ChatCompletion endpoint with the model and messages\n",
    "\n",
    "    # Make an API call to the OpenAI ChatCompletion endpoint with the model and messages\n",
    "    completion = client.chat.completions.create(\n",
    "        model=model,\n",
    "        messages=messages,\n",
    "        temperature=temperature\n",
    "    )\n",
    "\n",
    "    # Extract and return the AI's response from the API response\n",
    "    return completion.choices[0].message.content.strip()"
   ]
  },
  {
   "cell_type": "markdown",
   "id": "c28f64e0",
   "metadata": {},
   "source": [
    "# Resume Evaluator V1 (Input Textbox & Output Textbox"
   ]
  },
  {
   "cell_type": "code",
   "execution_count": 1,
   "id": "1c212faa",
   "metadata": {},
   "outputs": [
    {
     "name": "stdout",
     "output_type": "stream",
     "text": [
      "Running on local URL:  http://127.0.0.1:7860\n",
      "Running on public URL: https://c8f7bd7edb4b5bf451.gradio.live\n",
      "\n",
      "This share link expires in 72 hours. For free permanent hosting and GPU upgrades, run `gradio deploy` from Terminal to deploy to Spaces (https://huggingface.co/spaces)\n"
     ]
    },
    {
     "data": {
      "text/html": [
       "<div><iframe src=\"https://c8f7bd7edb4b5bf451.gradio.live\" width=\"100%\" height=\"500\" allow=\"autoplay; camera; microphone; clipboard-read; clipboard-write;\" frameborder=\"0\" allowfullscreen></iframe></div>"
      ],
      "text/plain": [
       "<IPython.core.display.HTML object>"
      ]
     },
     "metadata": {},
     "output_type": "display_data"
    }
   ],
   "source": [
    "import gradio as gr\n",
    " \n",
    "def resume_evaluator(resume):\n",
    "    prompt = \"Given a resume in text, Evaluate and rate it from 1-10 and point out what changes should be made if any on the resume. provide an example with changes that you see fit on the given resume to make it better.\"\n",
    "    message = resume\n",
    "    reply = chat_completion(message, prompt=prompt)\n",
    "    return reply\n",
    "    \n",
    "with gr.Blocks() as app:\n",
    "    with gr.Row():\n",
    "        resume = gr.Textbox(label=\"Input Resume\", lines = 15)\n",
    "        output = gr.Textbox(label=\"Output\", interactive=False, lines =15)\n",
    "    with gr.Row():\n",
    "        btn = gr.Button(value =\"Send\")\n",
    "        btn.click(resume_evaluator, inputs = [resume], outputs = [output])\n",
    "    app.launch(share=True)"
   ]
  },
  {
   "cell_type": "markdown",
   "id": "9265f8b7",
   "metadata": {},
   "source": [
    "# Resume Evaluator V2 (Input, Output and Joblisting)"
   ]
  },
  {
   "cell_type": "code",
   "execution_count": 2,
   "id": "a17fed3b",
   "metadata": {},
   "outputs": [
    {
     "name": "stdout",
     "output_type": "stream",
     "text": [
      "Running on local URL:  http://127.0.0.1:7861\n",
      "Running on public URL: https://7804835832fc0428cd.gradio.live\n",
      "\n",
      "This share link expires in 72 hours. For free permanent hosting and GPU upgrades, run `gradio deploy` from Terminal to deploy to Spaces (https://huggingface.co/spaces)\n"
     ]
    },
    {
     "data": {
      "text/html": [
       "<div><iframe src=\"https://7804835832fc0428cd.gradio.live\" width=\"100%\" height=\"500\" allow=\"autoplay; camera; microphone; clipboard-read; clipboard-write;\" frameborder=\"0\" allowfullscreen></iframe></div>"
      ],
      "text/plain": [
       "<IPython.core.display.HTML object>"
      ]
     },
     "metadata": {},
     "output_type": "display_data"
    }
   ],
   "source": [
    "import gradio as gr\n",
    " \n",
    "def resume_evaluator(resume, job_listing):\n",
    "    prompt = \"\"\"Given on the resume in text and the job listing the user wants to apply to.\n",
    "                Provide a rating 1-10 on how good the resume is and how much it fits the job listing.\n",
    "                Provide an example of changes you would make to the resume to make it better fot the job listing.\n",
    "            \"\"\"\n",
    "    message = f\"{resume}, {joblisting}\" \n",
    "    reply = chat_completion(message, prompt=prompt)\n",
    "    return reply\n",
    "    \n",
    "with gr.Blocks() as app:\n",
    "    with gr.Row():\n",
    "        resume = gr.Textbox(label=\"Input Resume\", lines = 15)\n",
    "        joblisting = gr.Textbox(label=\"Joblisting\", lines =15)\n",
    "    with gr.Row():\n",
    "        btn = gr.Button(value =\"Send\")\n",
    "    results = gr.Textbox(label=\"Results\", interactive=False, lines =15)\n",
    "    btn.click(resume_evaluator, inputs = [resume, joblisting], outputs = [results])\n",
    "    app.launch(share=True)"
   ]
  },
  {
   "cell_type": "markdown",
   "id": "ae18ac24",
   "metadata": {},
   "source": [
    "# Install PDF Dependency"
   ]
  },
  {
   "cell_type": "code",
   "execution_count": 40,
   "id": "abdd230d",
   "metadata": {},
   "outputs": [
    {
     "name": "stdout",
     "output_type": "stream",
     "text": [
      "Requirement already satisfied: PyPDF2 in /opt/homebrew/lib/python3.11/site-packages (3.0.1)\n",
      "\n",
      "\u001b[1m[\u001b[0m\u001b[34;49mnotice\u001b[0m\u001b[1;39;49m]\u001b[0m\u001b[39;49m A new release of pip is available: \u001b[0m\u001b[31;49m23.2.1\u001b[0m\u001b[39;49m -> \u001b[0m\u001b[32;49m24.0\u001b[0m\n",
      "\u001b[1m[\u001b[0m\u001b[34;49mnotice\u001b[0m\u001b[1;39;49m]\u001b[0m\u001b[39;49m To update, run: \u001b[0m\u001b[32;49mpython3.11 -m pip install --upgrade pip\u001b[0m\n",
      "Note: you may need to restart the kernel to use updated packages.\n"
     ]
    }
   ],
   "source": [
    "pip install PyPDF2"
   ]
  },
  {
   "cell_type": "markdown",
   "id": "5d562732",
   "metadata": {},
   "source": [
    "# Function to read PDF Rubric from files"
   ]
  },
  {
   "cell_type": "code",
   "execution_count": 3,
   "id": "f8d0b093",
   "metadata": {
    "scrolled": false
   },
   "outputs": [
    {
     "name": "stdout",
     "output_type": "stream",
     "text": [
      " Stage 1: NoExperienceStage 2: Some ExperienceStage 3: Relevant ExperienceStage 4: ProfessionalProfessionalismResume is difficult tonavigate. Informationmay not be in the rightplace. Non-standardformat. Informationmight bemisrepresented due tolack of understandingfrom the candidate.Resume is clear and easy tonavigate, however, significantedits could make it much higherquality.Resume is clear and easy to navigate.Candidate has put significant time andeffort into editing.Resume is clear andeasy to navigate.Candidate has putsignificant time andeffort into editing andcurating the content forthis specific role.WorkExperienceCandidate has neverworked before.Candidate has worked before butpossibly not in this field.Candidate has held an internship intechnology. Better would be aninternship in this area.Candidate has existingprofessional workexperience in this area.Teamwork andProfessionalPracticesCandidate has no workexperience, teamexperience. Possiblyfamiliar with Agile butonly from an academicperspective, not inpractice.Candidate has goodunderstanding of modern teampractices and best-practicesrelated to the field. May not havesignificant experience at them.Example: using agile, github, CI, codereview, PRs, branching, & pairprogramming as part of a courseassignment.Candidate has good experience withmodern team and professionalpractices which is evidenced by usingthese practices in their personalprojects with multiple team members.Example: using agile, github, CI, codereview, PRs, branching, & pairprogramming as part of larger projects.Candidate hasprofessionalexperience withmodern team andprofessional practices.Example: using agile,github, CI, code review,PRs, branching, & pairprogramming as part ofpaid work.EducationCandidate does nothold a degree or formaltitles or certifications inthis domain.Candidate holds a degree in thesame area and may have somerelevant coursework.Candidate has had coursework thatdirectly contributes to theirknowledge of this domain and/or wasengaged in significant projects orresearch related to this area.Candidate was involvedin published peer-reviewed research inthis area. Or is aprofessional educatorin the area.Non-workExperienceCandidate has noprojects or anythingtangible to indicatethey have experience inthis area.Candidate has limited experiencein the area. It is possible that thisexperience is from homeworkassignments or required workfrom a University course,workshop, bootcamp, or followinga tutorial. Example: listinghomework on resume, listing classprojectsCandidate has original projects in thisarea that demonstrate signficantthought and interest. Demonstratesan ability to think about problems andsolutions. Ability to design solutionsfrom scratch. Example: senior projects,to a lesser degree hackathon projectsCandidate hasdeployed high-qualityprojects that arepublished and used bypeople. Example:releasing a web app ormobile appSkillsCandidate may list ahodgepodge of skillsbut none directlyrelevant to the position.Candidate lists skills relevant tothe position but not obvious that itis significant experience. Notobvious that the candidate isn'tjust lying or artificially tailoringtheir resume.Candidate lists skills directly relevantto the position. They seem legit basedon the context, wording, depth. Itseems legit.Candidate has real skillsrelevant to the position,verifiable by their workexperience, education,and/or projects.Resume Assessment Rubric  \n",
      "  \n"
     ]
    }
   ],
   "source": [
    "from PyPDF2 import PdfReader\n",
    "\n",
    "def extract_text_from_pdf(pdf_path):\n",
    "    text = \"\"\n",
    "    with open(pdf_path, 'rb') as file:\n",
    "        reader = PdfReader(file)\n",
    "        num_pages = len(reader.pages)\n",
    "        for page_number in range(num_pages):\n",
    "            page = reader.pages[page_number]\n",
    "            text += page.extract_text()\n",
    "    return text\n",
    "\n",
    "pdf_path = \"/Users/kevin/Desktop/Ai Apps/HW/resume-assessment-rubric.pdf\"\n",
    "extracted_text = extract_text_from_pdf(pdf_path)\n",
    "print(extracted_text)"
   ]
  },
  {
   "cell_type": "markdown",
   "id": "5e33feeb",
   "metadata": {},
   "source": [
    "# Resume Evaluator V3 (Use PDF rubric, Input, Output and Joblisting)"
   ]
  },
  {
   "cell_type": "code",
   "execution_count": 6,
   "id": "970f442c",
   "metadata": {},
   "outputs": [
    {
     "name": "stdout",
     "output_type": "stream",
     "text": [
      "Running on local URL:  http://127.0.0.1:7863\n",
      "Running on public URL: https://00234b9a3dac98ba48.gradio.live\n",
      "\n",
      "This share link expires in 72 hours. For free permanent hosting and GPU upgrades, run `gradio deploy` from Terminal to deploy to Spaces (https://huggingface.co/spaces)\n"
     ]
    },
    {
     "data": {
      "text/html": [
       "<div><iframe src=\"https://00234b9a3dac98ba48.gradio.live\" width=\"100%\" height=\"500\" allow=\"autoplay; camera; microphone; clipboard-read; clipboard-write;\" frameborder=\"0\" allowfullscreen></iframe></div>"
      ],
      "text/plain": [
       "<IPython.core.display.HTML object>"
      ]
     },
     "metadata": {},
     "output_type": "display_data"
    }
   ],
   "source": [
    "import gradio as gr\n",
    "from PyPDF2 import PdfReader\n",
    "\n",
    "def extract_text_from_pdf(pdf_path):\n",
    "    text = \"\"\n",
    "    with open(pdf_path, 'rb') as file:\n",
    "        reader = PdfReader(file)\n",
    "        num_pages = len(reader.pages)\n",
    "        for page_number in range(num_pages):\n",
    "            page = reader.pages[page_number]\n",
    "            text += page.extract_text()\n",
    "    return text\n",
    "\n",
    "pdf_path = \"/Users/kevin/Desktop/Ai Apps/HW/resume-assessment-rubric.pdf\"\n",
    "extracted_text = extract_text_from_pdf(pdf_path)\n",
    "\n",
    "\n",
    "def resume_evaluator(resume, job_listing):\n",
    "    pdf_path = \"/Users/kevin/Desktop/Ai Apps/HW/resume-assessment-rubric.pdf\"\n",
    "    extracted_text = extract_text_from_pdf(pdf_path)\n",
    "    \n",
    "    prompt = \"\"\"Given on the resume in text use the rubric categories to rate the resume in every category by level\n",
    "                Also provide on a scale of 1-10 how well the resume is given the joblisting. Is it a good fit? \n",
    "                does it have the proper key words relating to the job, these are things to take into account.\n",
    "            \"\"\"\n",
    "    message = f\"{resume}, {joblisting}, This is the Resume rubric {extracted_text}\" \n",
    "    reply = chat_completion(message, prompt=prompt)\n",
    "    return reply\n",
    "    \n",
    "with gr.Blocks() as app:\n",
    "    with gr.Row():\n",
    "        resume = gr.Textbox(label=\"Input Resume\", lines = 15)\n",
    "        joblisting = gr.Textbox(label=\"Joblisting\", lines =15)\n",
    "    with gr.Row():\n",
    "        btn = gr.Button(value =\"Send\")\n",
    "    results = gr.Textbox(label=\"Results\", interactive=False, lines =15)\n",
    "    btn.click(resume_evaluator, inputs = [resume, joblisting], outputs = [results])\n",
    "    app.launch(share=True)"
   ]
  },
  {
   "cell_type": "markdown",
   "id": "b028eadb",
   "metadata": {},
   "source": [
    "# Resume Evaluator V4\n",
    "- User inputs PDF file for resume instead of text\n",
    "- User inputs Joblisting link rather than text\n",
    "- All other V3 features."
   ]
  },
  {
   "cell_type": "code",
   "execution_count": 11,
   "id": "dd1afbf2",
   "metadata": {
    "scrolled": false
   },
   "outputs": [
    {
     "name": "stdout",
     "output_type": "stream",
     "text": [
      "Running on local URL:  http://127.0.0.1:7868\n",
      "Running on public URL: https://ff4e1ae301e6347359.gradio.live\n",
      "\n",
      "This share link expires in 72 hours. For free permanent hosting and GPU upgrades, run `gradio deploy` from Terminal to deploy to Spaces (https://huggingface.co/spaces)\n"
     ]
    },
    {
     "data": {
      "text/html": [
       "<div><iframe src=\"https://ff4e1ae301e6347359.gradio.live\" width=\"100%\" height=\"500\" allow=\"autoplay; camera; microphone; clipboard-read; clipboard-write;\" frameborder=\"0\" allowfullscreen></iframe></div>"
      ],
      "text/plain": [
       "<IPython.core.display.HTML object>"
      ]
     },
     "metadata": {},
     "output_type": "display_data"
    }
   ],
   "source": [
    "import gradio as gr\n",
    "from PyPDF2 import PdfReader\n",
    "\n",
    "def extract_text_from_pdf(pdf_path):\n",
    "    text = \"\"\n",
    "    with open(pdf_path, 'rb') as file:\n",
    "        reader = PdfReader(file)\n",
    "        num_pages = len(reader.pages)\n",
    "        for page_number in range(num_pages):\n",
    "            page = reader.pages[page_number]\n",
    "            text += page.extract_text()\n",
    "    return text\n",
    "\n",
    "def fetch_job_listing(url):\n",
    "    try:\n",
    "        response = requests.get(url)\n",
    "        if response.status_code == 200:\n",
    "            return response.text\n",
    "        else:\n",
    "            return \"Error: Unable to fetch job listing from the provided URL.\"\n",
    "    except Exception as e:\n",
    "        return f\"Error: {str(e)}\"\n",
    "\n",
    "pdf_path = \"/Users/kevin/Desktop/Ai Apps/HW/resume-assessment-rubric.pdf\"\n",
    "extracted_text = extract_text_from_pdf(pdf_path)\n",
    "\n",
    "\n",
    "def resume_evaluator(resume, job_listing):\n",
    "    pdf_path = \"/Users/kevin/Desktop/Ai Apps/HW/resume-assessment-rubric.pdf\"\n",
    "    extracted_text = extract_text_from_pdf(pdf_path)\n",
    "    resume = extract_text_from_pdf(resume)\n",
    "    job_listing = fetch_job_listing(job_listing)\n",
    "    \n",
    "    prompt = \"\"\"Given on the resume in text use the rubric categories to rate the resume in every category by level\n",
    "                Also provide on a scale of 1-10 how well the resume is given the joblisting. Is it a good fit? \n",
    "                does it have the proper key words relating to the job, these are things to take into account.\n",
    "            \"\"\"\n",
    "    message = f\"{resume}, {joblisting}, This is the Resume rubric {extracted_text}\" \n",
    "    reply = chat_completion(message, prompt=prompt)\n",
    "    return reply\n",
    "    \n",
    "with gr.Blocks() as app:\n",
    "    with gr.Row():\n",
    "        resume = gr.File(label=\"Drop Resume\")\n",
    "        joblisting = gr.Textbox(label=\"Joblisting URL\", lines =10)\n",
    "    with gr.Row():\n",
    "        btn = gr.Button(value =\"Send\")\n",
    "    results = gr.Textbox(label=\"Results\", interactive=False, lines =15)\n",
    "    btn.click(resume_evaluator, inputs = [resume, joblisting], outputs = [results])\n",
    "    app.launch(share=True)"
   ]
  },
  {
   "cell_type": "code",
   "execution_count": null,
   "id": "b62c15c1",
   "metadata": {},
   "outputs": [],
   "source": []
  }
 ],
 "metadata": {
  "kernelspec": {
   "display_name": "Python 3 (ipykernel)",
   "language": "python",
   "name": "python3"
  },
  "language_info": {
   "codemirror_mode": {
    "name": "ipython",
    "version": 3
   },
   "file_extension": ".py",
   "mimetype": "text/x-python",
   "name": "python",
   "nbconvert_exporter": "python",
   "pygments_lexer": "ipython3",
   "version": "3.11.5"
  },
  "vscode": {
   "interpreter": {
    "hash": "aee8b7b246df8f9039afb4144a1f6fd8d2ca17a180786b69acc140d282b71a49"
   }
  }
 },
 "nbformat": 4,
 "nbformat_minor": 5
}
